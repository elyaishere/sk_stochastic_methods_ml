{
 "cells": [
  {
   "cell_type": "code",
   "execution_count": 162,
   "metadata": {},
   "outputs": [],
   "source": [
    "import matplotlib.pyplot as plt\n",
    "import numpy as np\n",
    "import scipy\n",
    "from scipy.optimize import minimize"
   ]
  },
  {
   "cell_type": "markdown",
   "metadata": {},
   "source": [
    "## Problem 1\n",
    "$$\n",
    "K_{a}(k) = \\log \\int e^{k\\left(r(w) - \\langle r \\rangle^a\\right)}P^a(w)dw = \\log \\int e^{k\\left(r(w) - \\langle r \\rangle^a\\right)} \\frac{P^a(w)}{P^b(w)}P^b(w)dw\n",
    "$$\n",
    "by Jensen’s inequality\n",
    "$$\n",
    "\\log \\int e^{k\\left(r(w) - \\langle r \\rangle^a\\right)} \\frac{P^a(w)}{P^b(w)}P^b(w)dw \\ge \\int \\log\\left[ e^{k\\left(r(w) - \\langle r \\rangle^a\\right)} \\frac{P^a(w)}{P^b(w)}\\right]P^b(w)dw = \\int k\\left(r(w) - \\langle r \\rangle^a\\right)P^b(w)dw + \\int  P^b(w) \\log \\frac{P^a(w)}{P^b(w)} dw = k \\left( \\langle r \\rangle^b - \\langle r \\rangle^a\\right) - KL(P^b || P^a)\n",
    "$$\n",
    "\n",
    "for $P^a = \\mathcal{N}(\\mu_a, \\sigma_a^2),\\ P^b = \\mathcal{N}(\\mu_b, \\sigma_b^2): K_{a}(k) = \\frac{1}{2}\\sigma_a^2 k^2 \\Rightarrow$\n",
    "\n",
    "$$\n",
    " \\frac{1}{2}\\sigma_a^2 k^2 - k\\left(\\langle r \\rangle^b - \\langle r \\rangle^a\\right) + KL(P^b || P^a) \\ge 0 - parabola \\Rightarrow k_{min} = \\frac{\\langle r \\rangle^b - \\langle r \\rangle^a}{\\sigma_a^2}\n",
    "$$\n",
    "$$\n",
    "\\langle r \\rangle^b - \\langle r \\rangle^a \\le \\sigma_a\\sqrt{2  KL(P^b || P^a)}\n",
    "$$"
   ]
  },
  {
   "cell_type": "markdown",
   "metadata": {},
   "source": [
    "## Problem 2: MLE with scipy.minimize\n",
    "\n",
    "One needs to find which source distribution was most likely used to generate `unknown_sample.txt`\n",
    "\n",
    "- Gamma distribution, where $k$ is shape, $\\theta = 1$ is scale, $\\Gamma$ is Gamma function\n",
    "\n",
    "$$p_{gamma}(x) = x^{k-1} \\ \\frac{e^{-x/\\theta}}{\\theta^k \\ \\Gamma(k)}$$\n",
    "\n",
    "\n",
    "- or Gumbel distribution, where $\\mu$ is the mode, and $\\beta=1$ is the scale\n",
    "\n",
    "$$ p_{gumbel}(x) = \\frac{e^{-(x - \\mu)/ \\beta}}{\\beta} e^{ -e^{-(x - \\mu)/ \\beta}} $$\n",
    "\n",
    "\n",
    "In this task we ask you to use `scipy.minimize` to maximize $\\log L$, i.e. minimize its negative value.\n",
    "Scale parameters $\\theta$ and $\\beta$ here are constant and equal to 1 for both distributions, so you can simpify PDFs."
   ]
  },
  {
   "cell_type": "markdown",
   "metadata": {},
   "source": [
    "### Restoring the true distribution\n",
    "Write down the likelihood $L$ and  the negative log-likelihood  for $p_{gamma}(x, k)$, $p_{gumbel}(x, \\mu)$ and sample $x = \\{x_0, ..., x_n\\}$\n",
    "\n"
   ]
  },
  {
   "cell_type": "markdown",
   "metadata": {},
   "source": [
    "$$\n",
    "L_{p_{gamma}(x, k)} = \\prod_{i=1}^n x_i^{k-1} \\frac{e^{-x_i / \\theta}}{\\theta^k  \\Gamma(k)} = \\left(\\frac{1}{\\theta^k  \\Gamma(k)}\\right)^n\\prod_{i=1}^n x_i^{k-1} e^{-x_i / \\theta}\n",
    "$$\n",
    "$$\n",
    "- \\log L_{p_{gamma}(x, k)} = nk \\log \\theta + n \\log  \\Gamma(k) - \\left(k-1\\right)\\sum_{i=1}^n \\log x_i + \\frac{\\sum_{i=1}^n  x_i }{\\theta}\n",
    "$$\n",
    "\n",
    "$$\n",
    "L_{p_{gumbel}(x, \\mu)} = \\prod_{i=1}^n \\frac{e^{-(x_i - \\mu)/ \\beta}}{\\beta} e^{ -e^{-(x_i - \\mu)/ \\beta}} = \\left(\\frac{1}{\\beta}\\right)^n\\prod_{i=1}^n e^{-(x_i - \\mu)/ \\beta -e^{-(x_i - \\mu)/ \\beta}}\n",
    "$$\n",
    "$$\n",
    "- \\log L_{p_{gumbel}(x, \\mu)} = n \\log \\beta +\\sum_{i=1}^n  \\frac{(x_i - \\mu)} {\\beta} + e^{-(x_i - \\mu)/ \\beta}\n",
    "$$"
   ]
  },
  {
   "cell_type": "markdown",
   "metadata": {},
   "source": [
    "In the code block below sample `x` is already imported as a global variable. Implement `neg_loglikelihood_gamma` as a function of $k$ and `neg_loglikelihood_gumbel` as a function of $\\mu$. Use numpy and scipy.special where needed.\n",
    "\n",
    "Run the minimizer with given initial parameters using this call\n",
    "\n",
    "    result = minimize(func, init_param, method = 'Nelder-Mead', options={'disp': True})\n",
    "\n",
    "Check the result. Answer the following questions\n",
    "\n",
    "1. What is the most probable value of shape $\\hat{k}$ if the distribution was $p_{gamma}$?\n",
    "\n",
    "\n",
    "2. What is the most probable value of mode $\\hat{\\mu}$ if the distribution was $p_{gumbel}$?\n",
    "\n",
    "\n",
    "3. Which distribution has the highest probability to be the true one?\n",
    "\n",
    "Ensure that your solution is correct by plotting both PDFs with found $\\hat{k}$ and $\\hat{\\mu}$ over the histogram of the sample."
   ]
  },
  {
   "cell_type": "code",
   "execution_count": 163,
   "metadata": {},
   "outputs": [
    {
     "name": "stdout",
     "output_type": "stream",
     "text": [
      "Optimization terminated successfully.\n",
      "         Current function value: 2552.487484\n",
      "         Iterations: 22\n",
      "         Function evaluations: 44\n",
      "Optimization terminated successfully.\n",
      "         Current function value: 1552.163758\n",
      "         Iterations: 21\n",
      "         Function evaluations: 42\n"
     ]
    }
   ],
   "source": [
    "x = np.loadtxt('unknown_sample.txt')\n",
    "\n",
    "\n",
    "gamma_k0 = 0.1\n",
    "gumbel_mu0 = 0.1\n",
    "\n",
    "\n",
    "def neg_loglikelihood_gamma(k):\n",
    "    # theta = 1 => log(theta) = 0\n",
    "    return x.shape[0] * scipy.special.gamma(k) - (k - 1) * sum(np.log(x)) + sum(x)\n",
    "\n",
    "\n",
    "def neg_loglikelihood_gumbel(mu):\n",
    "    # beta = 1 => log(beta) = 0\n",
    "    return sum(x - mu) + sum(np.exp(-x + mu))\n",
    "\n",
    "\n",
    "result_gamma = minimize(neg_loglikelihood_gamma, gamma_k0, method = 'Nelder-Mead', options={'disp': True})\n",
    "result_gumbel = minimize(neg_loglikelihood_gumbel, gumbel_mu0, method = 'Nelder-Mead', options={'disp': True})"
   ]
  },
  {
   "cell_type": "code",
   "execution_count": 156,
   "metadata": {},
   "outputs": [
    {
     "name": "stdout",
     "output_type": "stream",
     "text": [
      "Solution for k: 2.121093750000008, value of neg_loglikelihood_gamma: 2552.4874838423607\n",
      "Solution for mu: 1.5393750000000055, value of neg_loglikelihood_gumbel: 1552.1637582858993\n"
     ]
    }
   ],
   "source": [
    "print('\\n'.join([\n",
    "    f\"Solution for k: {result_gamma.x[0]}, value of neg_loglikelihood_gamma: {result_gamma.fun}\",\n",
    "    f\"Solution for mu: {result_gumbel.x[0]}, value of neg_loglikelihood_gumbel: {result_gumbel.fun}\"\n",
    "]))"
   ]
  },
  {
   "cell_type": "markdown",
   "metadata": {},
   "source": [
    "Since `neg_loglikelihood_gumbel < neg_loglikelihood_gamma`, therefore Gumbel is more probable.\n",
    "\n",
    "Check below."
   ]
  },
  {
   "cell_type": "code",
   "execution_count": 157,
   "metadata": {},
   "outputs": [
    {
     "data": {
      "image/png": "[encoded data removed]",
      "text/plain": [
       "<Figure size 432x288 with 1 Axes>"
      ]
     },
     "metadata": {
      "needs_background": "light"
     },
     "output_type": "display_data"
    }
   ],
   "source": [
    "from scipy import stats\n",
    "\n",
    "def pdf_gamma(x, k):\n",
    "    return x ** (k - 1) * np.exp(-x) / scipy.special.gamma(k)\n",
    "\n",
    "\n",
    "def pdf_gumbel(x, mu):\n",
    "    return np.exp(- x + mu) * np.exp(- np.exp(- x + mu))\n",
    "\n",
    "hist = np.histogram(x, bins=50)\n",
    "hist_dist = stats.rv_histogram(hist)\n",
    "plt.plot(np.sort(x), hist_dist.pdf(np.sort(x)), label='Histogram')\n",
    "plt.plot(np.sort(x), pdf_gamma(np.sort(x), result_gamma.x[0]), label='Gamma')\n",
    "plt.plot(np.sort(x), pdf_gumbel(np.sort(x), result_gumbel.x[0]), label='Gumbel')\n",
    "plt.legend();"
   ]
  },
  {
   "cell_type": "markdown",
   "metadata": {},
   "source": [
    "### Automatic differentiation\n",
    "\n",
    "Some optimization methods like BFGS (Broyden–Fletcher–Goldfarb–Shanno) use first and second order derivatives of given function. To simplify calculations of gradients, jacobians and hessians, we are going to employ an autograd package, able to differentiate native python and numpy code. \n",
    "\n",
    "Package: https://github.com/HIPS/autograd\n",
    "\n",
    "This package is a \"drop-in\" replacement for many numpy and some scipy methods. To check what special functions are supported you need to look through [the source code](https://github.com/HIPS/autograd/blob/master/autograd/scipy/special.py) of correspondent module.\n",
    "\n",
    "Automatic differentiation (autograd) mechanics is not a numerical approximations (a.k.a finite difference methods). Instead of this, using chain rules of differentiation it tracks every elementary operation performed on input data and stores a gradient as a numerical value.\n",
    "\n",
    "- examples of computational graphs\\\n",
    "  https://en.wikipedia.org/wiki/Automatic_differentiation\n",
    "  \n",
    "\n",
    "- explanation of autograd mechanics\\\n",
    "  https://github.com/HIPS/autograd/blob/master/docs/tutorial.md#whats-going-on-under-the-hood\n",
    "  \n",
    "\n",
    "There are other framework with similar abilities, for instance \n",
    "[PyTorch](https://pytorch.org/), \n",
    "[JAX](https://github.com/google/jax) (successor of autograd), \n",
    "[TensorFlow](https://www.tensorflow.org/), \n",
    "[Theano](https://github.com/Theano/Theano), \n",
    "[MATLAB](https://www.mathworks.com/help/deeplearning/ug/include-automatic-differentiation.html) and even\n",
    "[StalinGRAD](https://github.com/Functional-AutoDiff/STALINGRAD) :)\n",
    "\n",
    "To install autograd in your conda/venv environment (my is called `base`) run\n",
    "\n",
    "`(base) $ pip install autograd`\n",
    "\n",
    "Look through example below and check that native differentiation works with Cobb-Douglas production function\n",
    "\n",
    "$$ f(x, y) = x^{0.8} \\ y^{0.2} $$"
   ]
  },
  {
   "cell_type": "code",
   "execution_count": null,
   "metadata": {},
   "outputs": [],
   "source": [
    "#!pip install autograd"
   ]
  },
  {
   "cell_type": "code",
   "execution_count": 69,
   "metadata": {},
   "outputs": [
    {
     "name": "stdout",
     "output_type": "stream",
     "text": [
      "autograd : [0.867577416958159, 0.14459623615969314]\n",
      "analytical: [0.8675774169581589, 0.14459623615969314]\n"
     ]
    }
   ],
   "source": [
    "from autograd import grad\n",
    "\n",
    "def f(x, y):\n",
    "    return x ** 0.8 * y ** 0.2\n",
    "\n",
    "def f_x(x, y):\n",
    "    return 0.8 * x ** (- 0.2) * y ** 0.2\n",
    "\n",
    "def f_y(x, y):\n",
    "    return 0.2 * x ** 0.8 * y ** (- 0.8)\n",
    "\n",
    "\n",
    "# first derivatives for f(x,y), x is position 0 (default) and y is 1\n",
    "dfdx = grad(f)\n",
    "dfdy = grad(f, 1)\n",
    "\n",
    "# suppose values for x and y are as follows\n",
    "x, y = 2.0, 3.0\n",
    "\n",
    "# evaluate the grads at x, y\n",
    "print(f\"autograd : {[dfdx(x,y), dfdy(x,y)]}\")\n",
    "\n",
    "# compare with analytical derivatives\n",
    "print(f\"analytical: {[f_x(x,y), f_y(x,y)]}\")"
   ]
  },
  {
   "cell_type": "markdown",
   "metadata": {},
   "source": [
    "Defining a function using only np & scipy fundamental methods will make it autograd ready. Note that we need to run import statements again to rewrite references.\n",
    "\n",
    "Take the code from the previous part and run BFGS optimization in the block below by calling\n",
    "    \n",
    "    minimize(func, init_param, jac=None, method = 'BFGS', options={'disp': True})\n",
    "                     \n",
    "Then provide optimizer with jacobians instead of `jac=None`. Use `jacobian` and `hessian` functions in the same way with `grad`.\n",
    "\n",
    "Answer the following questions\n",
    "\n",
    "4. Is there any difference between running the BFGS optimizer with and without a jacobian?\n",
    "\n",
    "\n",
    "5. Do you spot any changes in an iterations number between BFGS and Nelder-Mead optimizers?"
   ]
  },
  {
   "cell_type": "code",
   "execution_count": 158,
   "metadata": {},
   "outputs": [
    {
     "name": "stdout",
     "output_type": "stream",
     "text": [
      "Optimization terminated successfully.\n",
      "         Current function value: 2552.487484\n",
      "         Iterations: 7\n",
      "         Function evaluations: 20\n",
      "         Gradient evaluations: 10\n",
      "Optimization terminated successfully.\n",
      "         Current function value: 1552.163758\n",
      "         Iterations: 6\n",
      "         Function evaluations: 18\n",
      "         Gradient evaluations: 9\n",
      "Solution for k: 2.121104240632824, value of neg_loglikelihood_gamma: 2552.4874837932994\n",
      "Solution for mu: 1.5393936688857486, value of neg_loglikelihood_gumbel: 1552.163758113369\n"
     ]
    }
   ],
   "source": [
    "result_gamma = minimize(neg_loglikelihood_gamma, gamma_k0, jac=None, method = 'BFGS', options={'disp': True})\n",
    "result_gumbel = minimize(neg_loglikelihood_gumbel, gumbel_mu0, jac=None, method = 'BFGS', options={'disp': True})\n",
    "\n",
    "print('\\n'.join([\n",
    "    f\"Solution for k: {result_gamma.x[0]}, value of neg_loglikelihood_gamma: {result_gamma.fun}\",\n",
    "    f\"Solution for mu: {result_gumbel.x[0]}, value of neg_loglikelihood_gumbel: {result_gumbel.fun}\"\n",
    "]))"
   ]
  },
  {
   "cell_type": "code",
   "execution_count": 164,
   "metadata": {},
   "outputs": [
    {
     "name": "stdout",
     "output_type": "stream",
     "text": [
      "Optimization terminated successfully.\n",
      "         Current function value: 2552.487484\n",
      "         Iterations: 7\n",
      "         Function evaluations: 10\n",
      "         Gradient evaluations: 10\n",
      "Optimization terminated successfully.\n",
      "         Current function value: 1552.163758\n",
      "         Iterations: 6\n",
      "         Function evaluations: 8\n",
      "         Gradient evaluations: 8\n",
      "Solution for k: 2.121104243176461, value of neg_loglikelihood_gamma: 2552.4874837932994\n",
      "Solution for mu: 1.5393936319020247, value of neg_loglikelihood_gumbel: 1552.1637581133689\n"
     ]
    }
   ],
   "source": [
    "import autograd.numpy as np\n",
    "import autograd.scipy as scipy\n",
    "\n",
    "jac_gamma = grad(neg_loglikelihood_gamma)\n",
    "jac_mu = grad(neg_loglikelihood_gumbel)\n",
    "\n",
    "\n",
    "result_gamma = minimize(neg_loglikelihood_gamma, gamma_k0, jac=jac_gamma, method = 'BFGS', options={'disp': True})\n",
    "result_gumbel = minimize(neg_loglikelihood_gumbel, gumbel_mu0, jac=jac_mu, method = 'BFGS', options={'disp': True})\n",
    "\n",
    "print('\\n'.join([\n",
    "    f\"Solution for k: {result_gamma.x[0]}, value of neg_loglikelihood_gamma: {result_gamma.fun}\",\n",
    "    f\"Solution for mu: {result_gumbel.x[0]}, value of neg_loglikelihood_gumbel: {result_gumbel.fun}\"\n",
    "]))"
   ]
  },
  {
   "cell_type": "markdown",
   "metadata": {},
   "source": [
    "- Yes, there is a difference. In optimization with jacobian there are twice less function evaluations than in one without jacobian.\n",
    "- There are much less iterations in BFGS optimizer in comparison with Nelder-Mead optimizer."
   ]
  },
  {
   "cell_type": "markdown",
   "metadata": {},
   "source": [
    "## Problem 3"
   ]
  },
  {
   "cell_type": "markdown",
   "metadata": {},
   "source": [
    "- In this task one can observe 10 states $(home\\rightarrow office | home\\leftarrow office) \\times (0;4 | 1;3 | 2;2 | 3;1 | 4;0)$. Last term denotes the number of sunglasses at home and in the office respectively.\n",
    "\n",
    "     Lets denote probabilities of states $(0;4 | 1;3 | 2;2 | 3;1 | 4;0)\\times(home\\rightarrow office)$ as $s_1,...,s_5$ and $(0;4 | 1;3 | 2;2 | 3;1 | 4;0)\\times(home\\leftarrow office)$ as $s_6,...,s_{10}$ respectively. Then the following equations for this Markov chain hold:\n",
    "     - $s_1 + s_{10} = (1-p)(s_6 + s_5)$\n",
    "     - $s_5 + s_6 = p(s_2 + s_9) + 1\\cdot(s_1 + s_{10})$\n",
    "     - $s_2 + s_9 = p(s_5 + s_6) + (1-p)(s_4 + s_7)$\n",
    "     - $s_4 + s_7 = p(s_3 + s_8) + (1-p)(s_2 + s_9)$\n",
    "     - $s_3 + s_8 = p(s_4 + s_7) + (1-p)(s_3 + s_8) \\Rightarrow$ solving them recurrently one can observe\n",
    "     $$\\frac{s_1 + s_{10}}{1-p} = s_2 + s_9 = s_3 + s_8 = s_4 + s_7 = s_5 + s_6$$\n",
    "     From $\\sum_i s_i = 1 \\Rightarrow s_1 + s_{10} = \\frac{1-p}{5-p}$. Hence the probability of suffering is $\\frac{p(1-p)}{5-p}$.\n",
    "\n",
    "- Number of sunglasses governs the amount of equalities in the above section. Therefore, if one denotes it as $N$ then \n",
    "$$\\frac{s_1 + s_{2N}}{1-p} = s_2 + s_{2N - 1} = ... = s_{N} + s_{N+1},\\ \\sum_i s_i = 1 \\Rightarrow$$\n",
    "$$s_1 + s_{2N} = \\frac{1-p}{N+1-p} \\Rightarrow \\frac{p(1-p)}{N+1-p} < 0.1 \\Rightarrow N > 2$$\n"
   ]
  },
  {
   "cell_type": "markdown",
   "metadata": {},
   "source": []
  }
 ],
 "metadata": {
  "kernelspec": {
   "display_name": "Python 3.9.12 64-bit",
   "language": "python",
   "name": "python3"
  },
  "language_info": {
   "codemirror_mode": {
    "name": "ipython",
    "version": 3
   },
   "file_extension": ".py",
   "mimetype": "text/x-python",
   "name": "python",
   "nbconvert_exporter": "python",
   "pygments_lexer": "ipython3",
   "version": "3.10.8"
  },
  "vscode": {
   "interpreter": {
    "hash": "aee8b7b246df8f9039afb4144a1f6fd8d2ca17a180786b69acc140d282b71a49"
   }
  }
 },
 "nbformat": 4,
 "nbformat_minor": 4
}
